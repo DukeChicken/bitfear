{
 "cells": [
  {
   "cell_type": "code",
   "execution_count": 90,
   "metadata": {},
   "outputs": [
    {
     "name": "stdout",
     "output_type": "stream",
     "text": [
      "Requirement already satisfied: numpy in /home/opam/.local/lib/python3.7/site-packages (1.18.5)\n",
      "Requirement already satisfied: pandas in /home/opam/.local/lib/python3.7/site-packages (1.0.4)\n",
      "Requirement already satisfied: matplotlib in /home/opam/.local/lib/python3.7/site-packages (3.2.1)\n",
      "Requirement already satisfied: sklearn in /home/opam/.local/lib/python3.7/site-packages (0.0)\n",
      "Requirement already satisfied: python-dateutil>=2.6.1 in /home/opam/.local/lib/python3.7/site-packages (from pandas) (2.8.0)\n",
      "Requirement already satisfied: pytz>=2017.2 in /home/opam/.local/lib/python3.7/site-packages (from pandas) (2020.1)\n",
      "Requirement already satisfied: cycler>=0.10 in /home/opam/.local/lib/python3.7/site-packages (from matplotlib) (0.10.0)\n",
      "Requirement already satisfied: kiwisolver>=1.0.1 in /home/opam/.local/lib/python3.7/site-packages (from matplotlib) (1.2.0)\n",
      "Requirement already satisfied: pyparsing!=2.0.4,!=2.1.2,!=2.1.6,>=2.0.1 in /home/opam/.local/lib/python3.7/site-packages (from matplotlib) (2.4.7)\n",
      "Requirement already satisfied: scikit-learn in /home/opam/.local/lib/python3.7/site-packages (from sklearn) (0.23.1)\n",
      "Requirement already satisfied: six>=1.5 in /usr/lib/python3/dist-packages (from python-dateutil>=2.6.1->pandas) (1.12.0)\n",
      "Requirement already satisfied: threadpoolctl>=2.0.0 in /home/opam/.local/lib/python3.7/site-packages (from scikit-learn->sklearn) (2.1.0)\n",
      "Requirement already satisfied: scipy>=0.19.1 in /home/opam/.local/lib/python3.7/site-packages (from scikit-learn->sklearn) (1.4.1)\n",
      "Requirement already satisfied: joblib>=0.11 in /home/opam/.local/lib/python3.7/site-packages (from scikit-learn->sklearn) (0.15.1)\n"
     ]
    }
   ],
   "source": [
    "!pip3 install numpy pandas matplotlib sklearn\n",
    "import numpy as np\n",
    "import pandas as pd\n",
    "import matplotlib.pyplot as plt"
   ]
  },
  {
   "cell_type": "code",
   "execution_count": 69,
   "metadata": {},
   "outputs": [],
   "source": [
    "data_path = r'data.csv'\n",
    "df = pd.read_csv(data_path)"
   ]
  },
  {
   "cell_type": "code",
   "execution_count": 91,
   "metadata": {},
   "outputs": [],
   "source": [
    "def rate_of_change(column, steps, bl):\n",
    "    \n",
    "    column_temp = np.array(column.copy())\n",
    "    column = np.array(column)\n",
    "    for i in range (steps):\n",
    "        column_temp = np.delete(column_temp, 0)\n",
    "        column_temp = np.append(column_temp, 0)\n",
    "        \n",
    "    if bl:\n",
    "        return pd.Series(column - column_temp).astype(int)\n",
    "    else:\n",
    "        return pd.Series(column - column_temp)\n",
    "\n",
    "\n",
    "def remove_step(column, steps):\n",
    "\n",
    "    for i in range (steps):\n",
    "        column = np.delete(column, -1)\n",
    "        \n",
    "    return column\n",
    "\n",
    "\n",
    "def remove_last_row(size, step):\n",
    "    return [i for i in range(size-1,size-step-1,-1)]"
   ]
  },
  {
   "cell_type": "code",
   "execution_count": 96,
   "metadata": {},
   "outputs": [],
   "source": [
    "step = 1\n",
    "\n",
    "df1 = df\n",
    "\n",
    "y = rate_of_change(df1['index'],step,1)\n",
    "x = df1.drop(columns = [df1.columns[0], 'index'])\n",
    "\n",
    "for column in x.columns:\n",
    "    x[column] = rate_of_change(df[column],step,0)\n",
    "    \n",
    "y = y.drop(remove_last_row(y.size,step))\n",
    "x = x.drop(remove_last_row(y.size,step))\n",
    "\n",
    "y = y.reset_index(drop=True)\n",
    "x = x.reset_index(drop=True)"
   ]
  },
  {
   "cell_type": "code",
   "execution_count": 98,
   "metadata": {},
   "outputs": [
    {
     "data": {
      "text/plain": [
       "<matplotlib.legend.Legend at 0x7f76710ba6a0>"
      ]
     },
     "execution_count": 98,
     "metadata": {},
     "output_type": "execute_result"
    },
    {
     "data": {
      "image/png": "[encoded data removed]",
      "text/plain": [
       "<Figure size 432x288 with 1 Axes>"
      ]
     },
     "metadata": {
      "needs_background": "light"
     },
     "output_type": "display_data"
    }
   ],
   "source": [
    "from sklearn.ensemble import RandomForestRegressor\n",
    "\n",
    "predicted = []\n",
    "\n",
    "x1 = [i for i in range(y.size)]\n",
    "\n",
    "cv_size = 10\n",
    "\n",
    "split = np.array_split(x1, cv_size)\n",
    "\n",
    "for i in range(cv_size):\n",
    "    xc = x.copy()\n",
    "    yc = y.copy()\n",
    "    cv_split = split[i].tolist()\n",
    "    y_test = yc.iloc[cv_split]\n",
    "    x_test = xc.iloc[cv_split]\n",
    "    y_train = yc.drop(cv_split)\n",
    "    x_train = xc.drop(cv_split)\n",
    "    classifier = RandomForestRegressor()\n",
    "    classifier.fit(x_train,y_train)\n",
    "    predicted += classifier.predict(x_test).tolist()\n",
    "    \n",
    "\n",
    "y1 = np.array(predicted).cumsum()\n",
    "y2 = np.array(y).cumsum()\n",
    "\n",
    "plt.plot(x1, y1)\n",
    "plt.plot(x1, y2)\n",
    "\n",
    "plt.legend([\"predicted\", \"actual\"])"
   ]
  },
  {
   "cell_type": "code",
   "execution_count": null,
   "metadata": {},
   "outputs": [],
   "source": [
    "\n"
   ]
  },
  {
   "cell_type": "code",
   "execution_count": null,
   "metadata": {},
   "outputs": [],
   "source": []
  }
 ],
 "metadata": {
  "kernelspec": {
   "display_name": "Python 3",
   "language": "python",
   "name": "python3"
  }
 },
 "nbformat": 4,
 "nbformat_minor": 2
}
